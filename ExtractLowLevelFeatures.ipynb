{
  "nbformat": 4,
  "nbformat_minor": 0,
  "metadata": {
    "colab": {
      "name": "AudioFiles.ipynb",
      "provenance": [],
      "collapsed_sections": []
    },
    "kernelspec": {
      "name": "python3",
      "display_name": "Python 3"
    }
  },
  "cells": [
    {
      "cell_type": "code",
      "metadata": {
        "id": "nx_l9x_asR72",
        "colab_type": "code",
        "colab": {
          "base_uri": "https://localhost:8080/",
          "height": 34
        },
        "outputId": "c06198bf-8d2a-41e6-b962-2a22794b8c66"
      },
      "source": [
        "!pip install -q praat-parselmouth\n",
        "import glob\n",
        "import os.path\n",
        "import parselmouth\n",
        "import pickle\n",
        "import re\n",
        "import itertools\n",
        "import numpy as np \n",
        "import pandas as pd\n",
        "import csv\n",
        "from os import listdir\n",
        "from xlwt import Workbook\n",
        "from parselmouth.praat import call\n",
        "from sklearn.decomposition import PCA\n",
        "from sklearn.preprocessing import StandardScaler\n",
        "from functools import reduce"
      ],
      "execution_count": 1,
      "outputs": [
        {
          "output_type": "stream",
          "text": [
            "\u001b[K     |████████████████████████████████| 9.0MB 2.8MB/s \n",
            "\u001b[?25h"
          ],
          "name": "stdout"
        }
      ]
    },
    {
      "cell_type": "code",
      "metadata": {
        "id": "NwcMj6ZJfvO6",
        "colab_type": "code",
        "colab": {
          "base_uri": "https://localhost:8080/",
          "height": 122
        },
        "outputId": "33b60197-009f-4096-f5c1-4fc766cc1292"
      },
      "source": [
        "from google.colab import drive\n",
        "drive.mount('/content/drive')"
      ],
      "execution_count": 3,
      "outputs": [
        {
          "output_type": "stream",
          "text": [
            "Go to this URL in a browser: https://accounts.google.com/o/oauth2/auth?client_id=947318989803-6bn6qk8qdgf4n4g3pfee6491hc0brc4i.apps.googleusercontent.com&redirect_uri=urn%3aietf%3awg%3aoauth%3a2.0%3aoob&scope=email%20https%3a%2f%2fwww.googleapis.com%2fauth%2fdocs.test%20https%3a%2f%2fwww.googleapis.com%2fauth%2fdrive%20https%3a%2f%2fwww.googleapis.com%2fauth%2fdrive.photos.readonly%20https%3a%2f%2fwww.googleapis.com%2fauth%2fpeopleapi.readonly&response_type=code\n",
            "\n",
            "Enter your authorization code:\n",
            "··········\n",
            "Mounted at /content/drive\n"
          ],
          "name": "stdout"
        }
      ]
    },
    {
      "cell_type": "code",
      "metadata": {
        "id": "qoOOY8ODsUtB",
        "colab_type": "code",
        "colab": {}
      },
      "source": [
        "def measureDuration(voiceID, f0min, f0max, unit):\n",
        "    sound = parselmouth.Sound(voiceID) # read the sound\n",
        "    pitch = call(sound, \"To Pitch\", 0.0, f0min, f0max) #create a praat pitch object\n",
        "    duration = parselmouth.praat.call(pitch, \"Get end time\")\n",
        "    return duration"
      ],
      "execution_count": 43,
      "outputs": []
    },
    {
      "cell_type": "code",
      "metadata": {
        "id": "vBD1YzeE2waB",
        "colab_type": "code",
        "colab": {}
      },
      "source": [
        "def measurePitch(voiceID, f0min, f0max, unit, startTime, endTime):\n",
        "    sound = parselmouth.Sound(voiceID) # read the sound\n",
        "    pitch = call(sound, \"To Pitch\", 0.0, f0min, f0max) #create a praat pitch object\n",
        "    pulses = parselmouth.praat.call([sound, pitch], \"To PointProcess (cc)\")\n",
        "    duration = parselmouth.praat.call(pitch, \"Get end time\")\n",
        "    voice_report_str = parselmouth.praat.call([sound, pitch, pulses], \"Voice report\", startTime, endTime, 75, 600, 1.3, 1.6, 0.03, 0.45)\n",
        "    voice_report_str = voice_report_str.replace(\"--undefined--\", \"0\")\n",
        "    s=re.findall(r'-?\\d+\\.?\\d*',voice_report_str)\n",
        "    if (len(s) == 40):\n",
        "      report = [s[21], s[22]+'E'+s[23],s[24],s[26],s[27],\n",
        "              s[28],s[29],s[31],s[33],\n",
        "              s[35],s[36],s[37],\n",
        "              s[38],s[39],\n",
        "              s[3],s[4],s[5],s[6],s[7],s[8],\n",
        "              s[9],s[10]+'E'+s[11],s[12]+'E'+s[13]]\n",
        "      return report\n",
        "    else: \n",
        "      report = [s[19], s[20], s[21], s[23], s[24], s[25], \n",
        "                s[26], s[28], s[30], s[32], s[33], s[34],\n",
        "                s[35], s[36], s[3], s[6], s[7], s[8],\n",
        "                s[9], s[10], s[11]]\n",
        "      print(voice_report_str)\n",
        "      print(report)\n",
        "      return report"
      ],
      "execution_count": 50,
      "outputs": []
    },
    {
      "cell_type": "code",
      "metadata": {
        "id": "2GtFF4Poy2f_",
        "colab_type": "code",
        "colab": {}
      },
      "source": [
        "def seq(start, end, step):\n",
        "    if step == 0:\n",
        "        raise ValueError(\"step must not be 0\")\n",
        "    sample_count = int(abs(end - start) / step)\n",
        "    return itertools.islice(itertools.count(start, step), sample_count)"
      ],
      "execution_count": 51,
      "outputs": []
    },
    {
      "cell_type": "code",
      "metadata": {
        "id": "PQQT4zf6y4v_",
        "colab_type": "code",
        "colab": {
          "base_uri": "https://localhost:8080/",
          "height": 173
        },
        "outputId": "bdd93f32-0bd4-418b-b465-7aa741c59450"
      },
      "source": [
        "for wave_file in sorted(glob.glob(\"/content/drive/My Drive/Masters_Project/Raw_Wav_Files/Read_Text/Healthy_Control/*.wav\"), key=lambda x:x[4:]):\n",
        "  print(\"Processing {}...\".format(wave_file))\n",
        "  sound = parselmouth.Sound(wave_file)\n",
        "\n",
        "  stepSize = 5.0\n",
        "  start_stepSize = 2.5\n",
        "  praat_features = []\n",
        "\n",
        "  start_time = 0\n",
        "  end_time = duration\n",
        "  sample_count = int(abs(end_time - start_time) / start_stepSize)\n",
        "  \n",
        "  for start_time in itertools.islice(itertools.count(start_time, start_stepSize), sample_count):\n",
        "      if start_time == 0:\n",
        "         end_time = start_time + stepSize\n",
        "         audio_Features = []\n",
        "         praat_features = []\n",
        "         praat_features.append(measurePitch(sound, 75, 500, \"Hertz\", start_time, end_time))\n",
        "         features = [element for tupl in praat_features for element in tupl]\n",
        "         features = list(map(float, features))\n",
        "         audioID = str(os.path.basename(wave_file))[0:4]\n",
        "         audio_Features.append(audioID)\n",
        "         diagnosis = str(os.path.basename(wave_file))[5:7]\n",
        "         audio_Features.append(diagnosis.upper())\n",
        "         duration = measureDuration(sound, 75, 500, \"Hertz\")\n",
        "         audio_Features.append(duration)\n",
        "\n",
        "         completeFeatures = audio_Features + features\n",
        "         \n",
        "         with open('audioFeatures.csv', 'a') as audio_Features:\n",
        "           audio_writer = csv.writer(audio_Features, delimiter=',')\n",
        "           audio_writer.writerow(completeFeatures)\n",
        "\n",
        "      elif start_time + (2*start_stepSize) >= duration:\n",
        "        end_time = measureDuration(sound, 75, 500, \"Hertz\")\n",
        "        audio_Features = []\n",
        "        praat_features = []\n",
        "        praat_features.append(measurePitch(sound, 75, 500, \"Hertz\", start_time, end_time))\n",
        "        features = [element for tupl in praat_features for element in tupl]\n",
        "        features = list(map(float, features))\n",
        "        audioID = str(os.path.basename(wave_file))[0:4]\n",
        "        audio_Features.append(audioID)\n",
        "        diagnosis = str(os.path.basename(wave_file))[5:7]\n",
        "        audio_Features.append(diagnosis.upper())\n",
        "        duration = measureDuration(sound, 75, 500, \"Hertz\")\n",
        "        audio_Features.append(duration)\n",
        "\n",
        "        completeFeatures = audio_Features + features\n",
        "        \n",
        "        with open('audioFeatures.csv', 'a') as audio_Features:\n",
        "          audio_writer = csv.writer(audio_Features, delimiter=',')\n",
        "          audio_writer.writerow(completeFeatures)\n",
        "\n",
        "      else:\n",
        "        end_time = start_time + stepSize\n",
        "        audio_Features = []\n",
        "        praat_features = []\n",
        "        praat_features.append(measurePitch(sound, 75, 500, \"Hertz\", start_time, end_time))\n",
        "        features = [element for tupl in praat_features for element in tupl]\n",
        "        features = list(map(float, features))\n",
        "        audioID = str(os.path.basename(wave_file))[0:4]\n",
        "        audio_Features.append(audioID)\n",
        "        diagnosis = str(os.path.basename(wave_file))[5:7]\n",
        "        audio_Features.append(diagnosis.upper())\n",
        "        duration = measureDuration(sound, 75, 500, \"Hertz\")\n",
        "        audio_Features.append(duration)\n",
        "\n",
        "        completeFeatures = audio_Features + features\n",
        "        \n",
        "        with open('audioFeatures.csv', 'a') as audio_Features:\n",
        "          audio_writer = csv.writer(audio_Features, delimiter=',')\n",
        "          audio_writer.writerow(completeFeatures)\n"
      ],
      "execution_count": null,
      "outputs": [
        {
          "output_type": "stream",
          "text": [
            "Processing /content/drive/My Drive/Masters_Project/Raw_Wav_Files/Read_Text/Healthy_Control/ID00_hc_0_0_0.wav...\n",
            "Processing /content/drive/My Drive/Masters_Project/Raw_Wav_Files/Read_Text/Healthy_Control/ID01_hc_0_0_0.wav...\n",
            "Processing /content/drive/My Drive/Masters_Project/Raw_Wav_Files/Read_Text/Healthy_Control/ID03_hc_0_0_0.wav...\n",
            "Processing /content/drive/My Drive/Masters_Project/Raw_Wav_Files/Read_Text/Healthy_Control/ID05_hc_0_0_0.wav...\n",
            "Processing /content/drive/My Drive/Masters_Project/Raw_Wav_Files/Read_Text/Healthy_Control/ID08_hc_0_0_0.wav...\n",
            "Processing /content/drive/My Drive/Masters_Project/Raw_Wav_Files/Read_Text/Healthy_Control/ID09_hc_0_0_0.wav...\n",
            "Processing /content/drive/My Drive/Masters_Project/Raw_Wav_Files/Read_Text/Healthy_Control/ID10_hc_0_0_0.wav...\n",
            "Processing /content/drive/My Drive/Masters_Project/Raw_Wav_Files/Read_Text/Healthy_Control/ID11_hc_0_0_0.wav...\n"
          ],
          "name": "stdout"
        }
      ]
    }
  ]
}
